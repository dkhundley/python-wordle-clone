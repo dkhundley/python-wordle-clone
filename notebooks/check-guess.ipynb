{
 "cells": [
  {
   "cell_type": "code",
   "execution_count": 1,
   "id": "3e397aeb",
   "metadata": {},
   "outputs": [],
   "source": [
    "import random"
   ]
  },
  {
   "cell_type": "code",
   "execution_count": 2,
   "id": "7332b9f8",
   "metadata": {},
   "outputs": [],
   "source": [
    "with open('../data/google-10000-english-usa-no-swears-medium.txt', 'r') as f:\n",
    "    word_list = f.readlines()"
   ]
  },
  {
   "cell_type": "code",
   "execution_count": 3,
   "id": "60345d79",
   "metadata": {},
   "outputs": [],
   "source": [
    "word_list = [word.replace('\\n', '') for word in word_list]"
   ]
  },
  {
   "cell_type": "code",
   "execution_count": 4,
   "id": "fc3f1a2f",
   "metadata": {},
   "outputs": [],
   "source": [
    "five_letter_words = []\n",
    "for word in word_list:\n",
    "    if len(word) == 5:\n",
    "        five_letter_words.append(word)"
   ]
  },
  {
   "cell_type": "code",
   "execution_count": 89,
   "id": "2d608828",
   "metadata": {},
   "outputs": [
    {
     "name": "stdout",
     "output_type": "stream",
     "text": [
      "craps\n",
      "<class 'str'>\n"
     ]
    }
   ],
   "source": [
    "actual_word = random.choice(five_letter_words)\n",
    "print(actual_word)\n",
    "print(type(actual_word))"
   ]
  },
  {
   "cell_type": "code",
   "execution_count": 90,
   "id": "938a1a9a",
   "metadata": {},
   "outputs": [],
   "source": [
    "# Setting static variables for testing purposes\n",
    "# actual_word = 'teeth'\n",
    "guess_word = 'thick'"
   ]
  },
  {
   "cell_type": "code",
   "execution_count": 91,
   "id": "0a1787bd",
   "metadata": {},
   "outputs": [],
   "source": [
    "# Creating a dictionary that holds how many remaining letters are necessary for the actual answer\n",
    "remaining_letters_dict = {}\n",
    "\n",
    "for letter in list(actual_word):\n",
    "    if letter not in remaining_letters_dict.keys():\n",
    "        remaining_letters_dict[letter] = 1\n",
    "    else:\n",
    "        remaining_letters_dict[letter] += 1"
   ]
  },
  {
   "cell_type": "code",
   "execution_count": 92,
   "id": "14c8dc57",
   "metadata": {},
   "outputs": [
    {
     "name": "stdout",
     "output_type": "stream",
     "text": [
      "Letters in actual word: ['c', 'r', 'a', 'p', 's']\n",
      "Letters in guess word: ['t', 'h', 'i', 'c', 'k']\n"
     ]
    }
   ],
   "source": [
    "# Creating lists of letters from each of the respective \"actual\" and \"guess\" words\n",
    "actual_letters = list(actual_word)\n",
    "guess_letters = list(guess_word)"
   ]
  },
  {
   "cell_type": "code",
   "execution_count": 93,
   "id": "686d281d",
   "metadata": {},
   "outputs": [],
   "source": [
    "# Performing logic to check for precise matches\n",
    "for index in range(len(guess_letters)):\n",
    "    if actual_letters[index] == guess_letters[index]:\n",
    "        guess_letters[index] = '🟩'\n",
    "        remaining_letters_dict[actual_letters[index]] -= 1\n",
    "\n",
    "# Performing logic to check for any remaining letters that might be right but not in right spot\n",
    "for index in range(len(guess_letters)):\n",
    "    \n",
    "    # Skipping over letters that have already been properly verified\n",
    "    if guess_letters[index] == '🟩':\n",
    "        continue\n",
    "    \n",
    "    # Performing appropriate action if guess letter is not at all in the actual word\n",
    "    elif guess_letters[index] not in remaining_letters_dict.keys():\n",
    "        guess_letters[index] = '⬜️'\n",
    "        \n",
    "    # Performing appropriate action if guess letter's key is in remaining_letters_dict but no remaining slots are open\n",
    "    elif (guess_letters[index] in remaining_letters_dict.keys()) and (remaining_letters_dict[guess_letters[index]] <= 0):\n",
    "        guess_letters[index] = '⬜️'\n",
    "    \n",
    "    # Performing appropriate action where letter is correct but not in proper position\n",
    "    elif (guess_letters[index] in remaining_letters_dict.keys()) and (remaining_letters_dict[guess_letters[index]] >= 1):\n",
    "        remaining_letters_dict[guess_letters[index]] -= 1\n",
    "        guess_letters[index] = '🟨'"
   ]
  },
  {
   "cell_type": "code",
   "execution_count": 94,
   "id": "3e6c0913",
   "metadata": {},
   "outputs": [
    {
     "name": "stdout",
     "output_type": "stream",
     "text": [
      "⬜️⬜️⬜️🟨⬜️\n"
     ]
    }
   ],
   "source": [
    "final_result = ''.join(guess_letters)\n",
    "print(final_result)"
   ]
  },
  {
   "cell_type": "code",
   "execution_count": null,
   "id": "199bc450",
   "metadata": {},
   "outputs": [],
   "source": []
  },
  {
   "cell_type": "code",
   "execution_count": null,
   "id": "426f6edf",
   "metadata": {},
   "outputs": [],
   "source": []
  }
 ],
 "metadata": {
  "kernelspec": {
   "display_name": "Python 3",
   "language": "python",
   "name": "python3"
  },
  "language_info": {
   "codemirror_mode": {
    "name": "ipython",
    "version": 3
   },
   "file_extension": ".py",
   "mimetype": "text/x-python",
   "name": "python",
   "nbconvert_exporter": "python",
   "pygments_lexer": "ipython3",
   "version": "3.8.8"
  }
 },
 "nbformat": 4,
 "nbformat_minor": 5
}
