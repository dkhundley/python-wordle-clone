{
 "cells": [
  {
   "cell_type": "code",
   "execution_count": 1,
   "id": "271ef065",
   "metadata": {},
   "outputs": [],
   "source": [
    "# Importing the necessary Python libraries\n",
    "import numpy as np\n",
    "import pandas as pd"
   ]
  },
  {
   "cell_type": "code",
   "execution_count": 2,
   "id": "ddbe2d98",
   "metadata": {},
   "outputs": [
    {
     "data": {
      "text/plain": [
       "['t', 'h', 'e', 'r', 'e']"
      ]
     },
     "execution_count": 2,
     "metadata": {},
     "output_type": "execute_result"
    }
   ],
   "source": [
    "answer = 'there'\n",
    "answer_letters = list(answer)\n",
    "answer_letters"
   ]
  },
  {
   "cell_type": "code",
   "execution_count": null,
   "id": "50ff743d",
   "metadata": {},
   "outputs": [],
   "source": [
    "guess = 'treat'\n",
    "guess_letters = list(guess)\n",
    "guess_letters"
   ]
  },
  {
   "cell_type": "code",
   "execution_count": null,
   "id": "76e2ebb5",
   "metadata": {},
   "outputs": [],
   "source": [
    "exact_matches = [(answer_letter == guess_letter) for answer_letter, guess_letter in zip(answer_letters, guess_letters)]"
   ]
  },
  {
   "cell_type": "code",
   "execution_count": null,
   "id": "c956a643",
   "metadata": {},
   "outputs": [],
   "source": [
    "round_output = []\n",
    "remaining_letters = []\n",
    "for i in range(len(exact_matches)):\n",
    "    if exact_matches[i]:\n",
    "        round_output.append('')\n",
    "    else:\n",
    "        round_output.append(guess_letters[i])\n",
    "        remaining_letters.append(answer_letters[i])"
   ]
  },
  {
   "cell_type": "code",
   "execution_count": null,
   "id": "80617b7f",
   "metadata": {},
   "outputs": [],
   "source": [
    "remaining_letters"
   ]
  }
 ],
 "metadata": {
  "kernelspec": {
   "display_name": "Python 3",
   "language": "python",
   "name": "python3"
  },
  "language_info": {
   "codemirror_mode": {
    "name": "ipython",
    "version": 3
   },
   "file_extension": ".py",
   "mimetype": "text/x-python",
   "name": "python",
   "nbconvert_exporter": "python",
   "pygments_lexer": "ipython3",
   "version": "3.8.8"
  }
 },
 "nbformat": 4,
 "nbformat_minor": 5
}
