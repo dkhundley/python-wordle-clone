{
 "cells": [
  {
   "cell_type": "code",
   "execution_count": 1,
   "id": "ff7a29a4",
   "metadata": {},
   "outputs": [],
   "source": [
    "with open('../data/google-10000-english-usa-no-swears-medium.txt') as f:\n",
    "    raw_wordlist = f.readlines()"
   ]
  },
  {
   "cell_type": "code",
   "execution_count": 6,
   "id": "6d896745",
   "metadata": {},
   "outputs": [],
   "source": [
    "raw_wordlist = [word.replace('\\n', '') for word in raw_wordlist]"
   ]
  },
  {
   "cell_type": "code",
   "execution_count": 9,
   "id": "371ba088",
   "metadata": {},
   "outputs": [],
   "source": [
    "five_letter_words = []\n",
    "\n",
    "for word in raw_wordlist:\n",
    "    if len(word) == 5:\n",
    "        five_letter_words.append(word)"
   ]
  },
  {
   "cell_type": "code",
   "execution_count": 12,
   "id": "ecded08d",
   "metadata": {},
   "outputs": [
    {
     "data": {
      "text/plain": [
       "1367"
      ]
     },
     "execution_count": 12,
     "metadata": {},
     "output_type": "execute_result"
    }
   ],
   "source": [
    "len(five_letter_words)"
   ]
  }
 ],
 "metadata": {
  "kernelspec": {
   "display_name": "Python 3",
   "language": "python",
   "name": "python3"
  },
  "language_info": {
   "codemirror_mode": {
    "name": "ipython",
    "version": 3
   },
   "file_extension": ".py",
   "mimetype": "text/x-python",
   "name": "python",
   "nbconvert_exporter": "python",
   "pygments_lexer": "ipython3",
   "version": "3.8.8"
  }
 },
 "nbformat": 4,
 "nbformat_minor": 5
}
